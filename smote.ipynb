{
 "cells": [
  {
   "cell_type": "code",
   "execution_count": 17,
   "metadata": {},
   "outputs": [],
   "source": [
    "import warnings\n",
    "warnings.filterwarnings('ignore')\n",
    "\n",
    "# 데이터 처리\n",
    "import pandas as pd\n",
    "import numpy as np\n",
    "\n",
    "# 데이터 전처리\n",
    "from sklearn.preprocessing import LabelEncoder, StandardScaler\n",
    "from sklearn.impute import SimpleImputer\n",
    "from sklearn.model_selection import train_test_split, KFold\n",
    "\n",
    "# 불균형 데이터 처리\n",
    "from imblearn.over_sampling import SMOTE\n",
    "\n",
    "# 모델 평가\n",
    "from sklearn.metrics import roc_auc_score\n",
    "\n",
    "from sklearn.ensemble import AdaBoostClassifier\n",
    "from sklearn.tree import DecisionTreeClassifier\n",
    "from sklearn.model_selection import train_test_split\n",
    "from sklearn.metrics import accuracy_score\n",
    "from sklearn.ensemble import GradientBoostingClassifier\n",
    "from sklearn.model_selection import GridSearchCV\n",
    "from sklearn.model_selection import RandomizedSearchCV"
   ]
  },
  {
   "cell_type": "code",
   "execution_count": 2,
   "metadata": {},
   "outputs": [],
   "source": [
    "# 학습/평가 데이터 로드\n",
    "train_df = pd.read_csv('open/train.csv').drop(columns=['UID'])\n",
    "test_df = pd.read_csv('open/test.csv').drop(columns=['UID'])"
   ]
  },
  {
   "cell_type": "code",
   "execution_count": 5,
   "metadata": {},
   "outputs": [],
   "source": [
    "\n",
    "\n",
    "# X, y 분리\n",
    "X = train_df.drop(columns=[\"채무 불이행 여부\"])\n",
    "y = train_df[\"채무 불이행 여부\"]"
   ]
  },
  {
   "cell_type": "code",
   "execution_count": 6,
   "metadata": {},
   "outputs": [],
   "source": [
    "categorical_cols = [\"주거 형태\", \"현재 직장 근속 연수\", \"대출 목적\", \"대출 상환 기간\"]\n",
    "\n",
    "# 라벨 인코딩 (현재 직장 근속 연수)\n",
    "label_enc = LabelEncoder()\n",
    "X[\"현재 직장 근속 연수\"] = label_enc.fit_transform(X[\"현재 직장 근속 연수\"])\n",
    "test_df[\"현재 직장 근속 연수\"] = label_enc.transform(test_df[\"현재 직장 근속 연수\"])\n",
    "\n",
    "# 원-핫 인코딩 적용\n",
    "X = pd.get_dummies(X, columns=[\"주거 형태\", \"대출 목적\", \"대출 상환 기간\"], drop_first=True)\n",
    "test_df = pd.get_dummies(test_df, columns=[\"주거 형태\", \"대출 목적\", \"대출 상환 기간\"], drop_first=True)"
   ]
  },
  {
   "cell_type": "code",
   "execution_count": 7,
   "metadata": {},
   "outputs": [],
   "source": [
    "# 로그 변환\n",
    "log_columns = [\"현재 미상환 신용액\", \"월 상환 부채액\", \"현재 대출 잔액\"]\n",
    "for col in log_columns:\n",
    "    X[col] = np.log1p(X[col])\n",
    "    test_df[col] = np.log1p(test_df[col])\n",
    "\n",
    "# \"마지막 연체 이후 경과 개월 수\"가 0이면 \"연체 없음\" 컬럼 추가\n",
    "X[\"연체 없음\"] = (X[\"마지막 연체 이후 경과 개월 수\"] == 0).astype(int)\n",
    "test_df[\"연체 없음\"] = (test_df[\"마지막 연체 이후 경과 개월 수\"] == 0).astype(int)"
   ]
  },
  {
   "cell_type": "code",
   "execution_count": 8,
   "metadata": {},
   "outputs": [],
   "source": [
    "imputer = SimpleImputer(strategy=\"median\")\n",
    "X_imputed = imputer.fit_transform(X)\n",
    "test_imputed = imputer.transform(test_df)"
   ]
  },
  {
   "cell_type": "code",
   "execution_count": 9,
   "metadata": {},
   "outputs": [],
   "source": [
    "scaler = StandardScaler()\n",
    "X_scaled = scaler.fit_transform(X_imputed)\n",
    "test_scaled = scaler.transform(test_imputed)"
   ]
  },
  {
   "cell_type": "code",
   "execution_count": 10,
   "metadata": {},
   "outputs": [],
   "source": [
    "smote = SMOTE(random_state=42)\n",
    "X_resampled, y_resampled = smote.fit_resample(X_scaled, y)"
   ]
  },
  {
   "cell_type": "code",
   "execution_count": 11,
   "metadata": {},
   "outputs": [],
   "source": [
    "X_train, X_val, y_train, y_val = train_test_split(\n",
    "    X_resampled, \n",
    "    y_resampled, \n",
    "    test_size=0.2, \n",
    "    random_state=42\n",
    ")"
   ]
  },
  {
   "cell_type": "code",
   "execution_count": 12,
   "metadata": {},
   "outputs": [],
   "source": [
    "# AdaBoost 모델 생성\n",
    "base_model = DecisionTreeClassifier()\n",
    "ada = AdaBoostClassifier(estimator=base_model, random_state=42)"
   ]
  },
  {
   "cell_type": "code",
   "execution_count": 37,
   "metadata": {},
   "outputs": [
    {
     "name": "stdout",
     "output_type": "stream",
     "text": [
      "Fitting 5 folds for each of 20 candidates, totalling 100 fits\n"
     ]
    },
    {
     "name": "stderr",
     "output_type": "stream",
     "text": [
      "/Users/jinushin/dacon/.venv/lib/python3.10/site-packages/sklearn/ensemble/_weight_boosting.py:519: FutureWarning: The SAMME.R algorithm (the default) is deprecated and will be removed in 1.6. Use the SAMME algorithm to circumvent this warning.\n",
      "  warnings.warn(\n",
      "/Users/jinushin/dacon/.venv/lib/python3.10/site-packages/sklearn/ensemble/_weight_boosting.py:519: FutureWarning: The SAMME.R algorithm (the default) is deprecated and will be removed in 1.6. Use the SAMME algorithm to circumvent this warning.\n",
      "  warnings.warn(\n",
      "/Users/jinushin/dacon/.venv/lib/python3.10/site-packages/sklearn/ensemble/_weight_boosting.py:519: FutureWarning: The SAMME.R algorithm (the default) is deprecated and will be removed in 1.6. Use the SAMME algorithm to circumvent this warning.\n",
      "  warnings.warn(\n",
      "/Users/jinushin/dacon/.venv/lib/python3.10/site-packages/sklearn/ensemble/_weight_boosting.py:519: FutureWarning: The SAMME.R algorithm (the default) is deprecated and will be removed in 1.6. Use the SAMME algorithm to circumvent this warning.\n",
      "  warnings.warn(\n",
      "/Users/jinushin/dacon/.venv/lib/python3.10/site-packages/sklearn/ensemble/_weight_boosting.py:519: FutureWarning: The SAMME.R algorithm (the default) is deprecated and will be removed in 1.6. Use the SAMME algorithm to circumvent this warning.\n",
      "  warnings.warn(\n",
      "/Users/jinushin/dacon/.venv/lib/python3.10/site-packages/sklearn/ensemble/_weight_boosting.py:519: FutureWarning: The SAMME.R algorithm (the default) is deprecated and will be removed in 1.6. Use the SAMME algorithm to circumvent this warning.\n",
      "  warnings.warn(\n",
      "/Users/jinushin/dacon/.venv/lib/python3.10/site-packages/sklearn/ensemble/_weight_boosting.py:519: FutureWarning: The SAMME.R algorithm (the default) is deprecated and will be removed in 1.6. Use the SAMME algorithm to circumvent this warning.\n",
      "  warnings.warn(\n",
      "/Users/jinushin/dacon/.venv/lib/python3.10/site-packages/sklearn/ensemble/_weight_boosting.py:519: FutureWarning: The SAMME.R algorithm (the default) is deprecated and will be removed in 1.6. Use the SAMME algorithm to circumvent this warning.\n",
      "  warnings.warn(\n",
      "/Users/jinushin/dacon/.venv/lib/python3.10/site-packages/sklearn/ensemble/_weight_boosting.py:519: FutureWarning: The SAMME.R algorithm (the default) is deprecated and will be removed in 1.6. Use the SAMME algorithm to circumvent this warning.\n",
      "  warnings.warn(\n",
      "/Users/jinushin/dacon/.venv/lib/python3.10/site-packages/sklearn/ensemble/_weight_boosting.py:519: FutureWarning: The SAMME.R algorithm (the default) is deprecated and will be removed in 1.6. Use the SAMME algorithm to circumvent this warning.\n",
      "  warnings.warn(\n"
     ]
    },
    {
     "name": "stdout",
     "output_type": "stream",
     "text": [
      "[CV] END algorithm=SAMME, estimator__max_depth=1, estimator__min_samples_leaf=3, estimator__min_samples_split=10, learning_rate=0.334, n_estimators=150; total time=   1.5s\n",
      "[CV] END algorithm=SAMME, estimator__max_depth=1, estimator__min_samples_leaf=3, estimator__min_samples_split=10, learning_rate=0.334, n_estimators=150; total time=   1.6s\n",
      "[CV] END algorithm=SAMME, estimator__max_depth=1, estimator__min_samples_leaf=3, estimator__min_samples_split=10, learning_rate=0.334, n_estimators=150; total time=   1.6s\n",
      "[CV] END algorithm=SAMME, estimator__max_depth=1, estimator__min_samples_leaf=3, estimator__min_samples_split=10, learning_rate=0.334, n_estimators=150; total time=   1.6s\n",
      "[CV] END algorithm=SAMME, estimator__max_depth=1, estimator__min_samples_leaf=3, estimator__min_samples_split=10, learning_rate=0.334, n_estimators=150; total time=   1.5s\n",
      "[CV] END algorithm=SAMME.R, estimator__max_depth=4, estimator__min_samples_leaf=1, estimator__min_samples_split=8, learning_rate=0.223, n_estimators=200; total time=   6.9s\n",
      "[CV] END algorithm=SAMME.R, estimator__max_depth=4, estimator__min_samples_leaf=1, estimator__min_samples_split=8, learning_rate=0.223, n_estimators=200; total time=   7.0s\n",
      "[CV] END algorithm=SAMME.R, estimator__max_depth=4, estimator__min_samples_leaf=1, estimator__min_samples_split=8, learning_rate=0.223, n_estimators=200; total time=   7.1s\n",
      "[CV] END algorithm=SAMME.R, estimator__max_depth=4, estimator__min_samples_leaf=1, estimator__min_samples_split=8, learning_rate=0.223, n_estimators=200; total time=   7.1s\n",
      "[CV] END algorithm=SAMME.R, estimator__max_depth=4, estimator__min_samples_leaf=1, estimator__min_samples_split=8, learning_rate=0.223, n_estimators=200; total time=   7.1s\n"
     ]
    },
    {
     "name": "stderr",
     "output_type": "stream",
     "text": [
      "/Users/jinushin/dacon/.venv/lib/python3.10/site-packages/sklearn/ensemble/_weight_boosting.py:519: FutureWarning: The SAMME.R algorithm (the default) is deprecated and will be removed in 1.6. Use the SAMME algorithm to circumvent this warning.\n",
      "  warnings.warn(\n",
      "/Users/jinushin/dacon/.venv/lib/python3.10/site-packages/sklearn/ensemble/_weight_boosting.py:519: FutureWarning: The SAMME.R algorithm (the default) is deprecated and will be removed in 1.6. Use the SAMME algorithm to circumvent this warning.\n",
      "  warnings.warn(\n"
     ]
    },
    {
     "name": "stdout",
     "output_type": "stream",
     "text": [
      "[CV] END algorithm=SAMME, estimator__max_depth=5, estimator__min_samples_leaf=2, estimator__min_samples_split=10, learning_rate=0.889, n_estimators=150; total time=   6.4s\n"
     ]
    },
    {
     "name": "stderr",
     "output_type": "stream",
     "text": [
      "/Users/jinushin/dacon/.venv/lib/python3.10/site-packages/sklearn/ensemble/_weight_boosting.py:519: FutureWarning: The SAMME.R algorithm (the default) is deprecated and will be removed in 1.6. Use the SAMME algorithm to circumvent this warning.\n",
      "  warnings.warn(\n"
     ]
    },
    {
     "name": "stdout",
     "output_type": "stream",
     "text": [
      "[CV] END algorithm=SAMME, estimator__max_depth=5, estimator__min_samples_leaf=2, estimator__min_samples_split=10, learning_rate=0.889, n_estimators=150; total time=   6.4s\n",
      "[CV] END algorithm=SAMME.R, estimator__max_depth=10, estimator__min_samples_leaf=3, estimator__min_samples_split=10, learning_rate=0.223, n_estimators=150; total time=  11.1s\n",
      "[CV] END algorithm=SAMME.R, estimator__max_depth=10, estimator__min_samples_leaf=3, estimator__min_samples_split=10, learning_rate=0.223, n_estimators=150; total time=  11.2s\n"
     ]
    },
    {
     "name": "stderr",
     "output_type": "stream",
     "text": [
      "/Users/jinushin/dacon/.venv/lib/python3.10/site-packages/sklearn/ensemble/_weight_boosting.py:519: FutureWarning: The SAMME.R algorithm (the default) is deprecated and will be removed in 1.6. Use the SAMME algorithm to circumvent this warning.\n",
      "  warnings.warn(\n",
      "/Users/jinushin/dacon/.venv/lib/python3.10/site-packages/sklearn/ensemble/_weight_boosting.py:519: FutureWarning: The SAMME.R algorithm (the default) is deprecated and will be removed in 1.6. Use the SAMME algorithm to circumvent this warning.\n",
      "  warnings.warn(\n"
     ]
    },
    {
     "name": "stdout",
     "output_type": "stream",
     "text": [
      "[CV] END algorithm=SAMME.R, estimator__max_depth=10, estimator__min_samples_leaf=3, estimator__min_samples_split=10, learning_rate=0.223, n_estimators=150; total time=  11.3s\n",
      "[CV] END algorithm=SAMME.R, estimator__max_depth=10, estimator__min_samples_leaf=3, estimator__min_samples_split=10, learning_rate=0.223, n_estimators=150; total time=  11.4s\n",
      "[CV] END algorithm=SAMME.R, estimator__max_depth=10, estimator__min_samples_leaf=3, estimator__min_samples_split=10, learning_rate=0.223, n_estimators=150; total time=  11.4s\n",
      "[CV] END algorithm=SAMME, estimator__max_depth=5, estimator__min_samples_leaf=2, estimator__min_samples_split=10, learning_rate=0.889, n_estimators=150; total time=   6.3s\n",
      "[CV] END algorithm=SAMME, estimator__max_depth=5, estimator__min_samples_leaf=2, estimator__min_samples_split=10, learning_rate=0.889, n_estimators=150; total time=   6.5s\n",
      "[CV] END algorithm=SAMME, estimator__max_depth=5, estimator__min_samples_leaf=2, estimator__min_samples_split=10, learning_rate=0.889, n_estimators=150; total time=   6.4s\n",
      "[CV] END algorithm=SAMME, estimator__max_depth=10, estimator__min_samples_leaf=4, estimator__min_samples_split=10, learning_rate=0.445, n_estimators=50; total time=   3.8s\n",
      "[CV] END algorithm=SAMME, estimator__max_depth=10, estimator__min_samples_leaf=4, estimator__min_samples_split=10, learning_rate=0.445, n_estimators=50; total time=   3.8s\n",
      "[CV] END algorithm=SAMME, estimator__max_depth=10, estimator__min_samples_leaf=4, estimator__min_samples_split=10, learning_rate=0.445, n_estimators=50; total time=   3.9s\n",
      "[CV] END algorithm=SAMME, estimator__max_depth=10, estimator__min_samples_leaf=4, estimator__min_samples_split=10, learning_rate=0.445, n_estimators=50; total time=   4.1s\n"
     ]
    },
    {
     "name": "stderr",
     "output_type": "stream",
     "text": [
      "/Users/jinushin/dacon/.venv/lib/python3.10/site-packages/sklearn/ensemble/_weight_boosting.py:519: FutureWarning: The SAMME.R algorithm (the default) is deprecated and will be removed in 1.6. Use the SAMME algorithm to circumvent this warning.\n",
      "  warnings.warn(\n"
     ]
    },
    {
     "name": "stdout",
     "output_type": "stream",
     "text": [
      "[CV] END algorithm=SAMME, estimator__max_depth=10, estimator__min_samples_leaf=4, estimator__min_samples_split=10, learning_rate=0.445, n_estimators=50; total time=   4.0s\n"
     ]
    },
    {
     "name": "stderr",
     "output_type": "stream",
     "text": [
      "/Users/jinushin/dacon/.venv/lib/python3.10/site-packages/sklearn/ensemble/_weight_boosting.py:519: FutureWarning: The SAMME.R algorithm (the default) is deprecated and will be removed in 1.6. Use the SAMME algorithm to circumvent this warning.\n",
      "  warnings.warn(\n"
     ]
    },
    {
     "name": "stdout",
     "output_type": "stream",
     "text": [
      "[CV] END algorithm=SAMME.R, estimator__max_depth=9, estimator__min_samples_leaf=2, estimator__min_samples_split=8, learning_rate=0.667, n_estimators=150; total time=  10.6s\n"
     ]
    },
    {
     "name": "stderr",
     "output_type": "stream",
     "text": [
      "/Users/jinushin/dacon/.venv/lib/python3.10/site-packages/sklearn/ensemble/_weight_boosting.py:519: FutureWarning: The SAMME.R algorithm (the default) is deprecated and will be removed in 1.6. Use the SAMME algorithm to circumvent this warning.\n",
      "  warnings.warn(\n"
     ]
    },
    {
     "name": "stdout",
     "output_type": "stream",
     "text": [
      "[CV] END algorithm=SAMME.R, estimator__max_depth=8, estimator__min_samples_leaf=4, estimator__min_samples_split=10, learning_rate=0.556, n_estimators=300; total time=  19.3s\n",
      "[CV] END algorithm=SAMME.R, estimator__max_depth=8, estimator__min_samples_leaf=4, estimator__min_samples_split=10, learning_rate=0.556, n_estimators=300; total time=  19.4s\n"
     ]
    },
    {
     "name": "stderr",
     "output_type": "stream",
     "text": [
      "/Users/jinushin/dacon/.venv/lib/python3.10/site-packages/sklearn/ensemble/_weight_boosting.py:519: FutureWarning: The SAMME.R algorithm (the default) is deprecated and will be removed in 1.6. Use the SAMME algorithm to circumvent this warning.\n",
      "  warnings.warn(\n",
      "/Users/jinushin/dacon/.venv/lib/python3.10/site-packages/sklearn/ensemble/_weight_boosting.py:519: FutureWarning: The SAMME.R algorithm (the default) is deprecated and will be removed in 1.6. Use the SAMME algorithm to circumvent this warning.\n",
      "  warnings.warn(\n"
     ]
    },
    {
     "name": "stdout",
     "output_type": "stream",
     "text": [
      "[CV] END algorithm=SAMME.R, estimator__max_depth=9, estimator__min_samples_leaf=2, estimator__min_samples_split=8, learning_rate=0.667, n_estimators=150; total time=  10.6s\n",
      "[CV] END algorithm=SAMME.R, estimator__max_depth=8, estimator__min_samples_leaf=4, estimator__min_samples_split=10, learning_rate=0.556, n_estimators=300; total time=  19.4s\n",
      "[CV] END algorithm=SAMME.R, estimator__max_depth=8, estimator__min_samples_leaf=4, estimator__min_samples_split=10, learning_rate=0.556, n_estimators=300; total time=  19.3s\n",
      "[CV] END algorithm=SAMME.R, estimator__max_depth=8, estimator__min_samples_leaf=4, estimator__min_samples_split=10, learning_rate=0.556, n_estimators=300; total time=  20.1s\n",
      "[CV] END algorithm=SAMME, estimator__max_depth=10, estimator__min_samples_leaf=2, estimator__min_samples_split=8, learning_rate=0.001, n_estimators=250; total time=  18.2s\n",
      "[CV] END algorithm=SAMME, estimator__max_depth=10, estimator__min_samples_leaf=2, estimator__min_samples_split=8, learning_rate=0.001, n_estimators=250; total time=  18.5s\n"
     ]
    },
    {
     "name": "stderr",
     "output_type": "stream",
     "text": [
      "/Users/jinushin/dacon/.venv/lib/python3.10/site-packages/sklearn/ensemble/_weight_boosting.py:519: FutureWarning: The SAMME.R algorithm (the default) is deprecated and will be removed in 1.6. Use the SAMME algorithm to circumvent this warning.\n",
      "  warnings.warn(\n"
     ]
    },
    {
     "name": "stdout",
     "output_type": "stream",
     "text": [
      "[CV] END algorithm=SAMME, estimator__max_depth=6, estimator__min_samples_leaf=1, estimator__min_samples_split=10, learning_rate=0.445, n_estimators=100; total time=   5.0s\n"
     ]
    },
    {
     "name": "stderr",
     "output_type": "stream",
     "text": [
      "/Users/jinushin/dacon/.venv/lib/python3.10/site-packages/sklearn/ensemble/_weight_boosting.py:519: FutureWarning: The SAMME.R algorithm (the default) is deprecated and will be removed in 1.6. Use the SAMME algorithm to circumvent this warning.\n",
      "  warnings.warn(\n"
     ]
    },
    {
     "name": "stdout",
     "output_type": "stream",
     "text": [
      "[CV] END algorithm=SAMME, estimator__max_depth=10, estimator__min_samples_leaf=2, estimator__min_samples_split=8, learning_rate=0.001, n_estimators=250; total time=  17.9s\n",
      "[CV] END algorithm=SAMME, estimator__max_depth=10, estimator__min_samples_leaf=2, estimator__min_samples_split=8, learning_rate=0.001, n_estimators=250; total time=  18.2s\n"
     ]
    },
    {
     "name": "stderr",
     "output_type": "stream",
     "text": [
      "/Users/jinushin/dacon/.venv/lib/python3.10/site-packages/sklearn/ensemble/_weight_boosting.py:519: FutureWarning: The SAMME.R algorithm (the default) is deprecated and will be removed in 1.6. Use the SAMME algorithm to circumvent this warning.\n",
      "  warnings.warn(\n",
      "/Users/jinushin/dacon/.venv/lib/python3.10/site-packages/sklearn/ensemble/_weight_boosting.py:519: FutureWarning: The SAMME.R algorithm (the default) is deprecated and will be removed in 1.6. Use the SAMME algorithm to circumvent this warning.\n",
      "  warnings.warn(\n"
     ]
    },
    {
     "name": "stdout",
     "output_type": "stream",
     "text": [
      "[CV] END algorithm=SAMME, estimator__max_depth=10, estimator__min_samples_leaf=2, estimator__min_samples_split=8, learning_rate=0.001, n_estimators=250; total time=  18.3s\n"
     ]
    },
    {
     "name": "stderr",
     "output_type": "stream",
     "text": [
      "/Users/jinushin/dacon/.venv/lib/python3.10/site-packages/sklearn/ensemble/_weight_boosting.py:519: FutureWarning: The SAMME.R algorithm (the default) is deprecated and will be removed in 1.6. Use the SAMME algorithm to circumvent this warning.\n",
      "  warnings.warn(\n"
     ]
    },
    {
     "name": "stdout",
     "output_type": "stream",
     "text": [
      "[CV] END algorithm=SAMME, estimator__max_depth=6, estimator__min_samples_leaf=1, estimator__min_samples_split=10, learning_rate=0.445, n_estimators=100; total time=   5.0s\n",
      "[CV] END algorithm=SAMME, estimator__max_depth=6, estimator__min_samples_leaf=1, estimator__min_samples_split=10, learning_rate=0.445, n_estimators=100; total time=   5.3s\n",
      "[CV] END algorithm=SAMME.R, estimator__max_depth=9, estimator__min_samples_leaf=2, estimator__min_samples_split=8, learning_rate=0.667, n_estimators=150; total time=  10.5s\n",
      "[CV] END algorithm=SAMME, estimator__max_depth=6, estimator__min_samples_leaf=1, estimator__min_samples_split=10, learning_rate=0.445, n_estimators=100; total time=   5.4s\n",
      "[CV] END algorithm=SAMME, estimator__max_depth=6, estimator__min_samples_leaf=1, estimator__min_samples_split=10, learning_rate=0.445, n_estimators=100; total time=   5.0s\n",
      "[CV] END algorithm=SAMME.R, estimator__max_depth=9, estimator__min_samples_leaf=2, estimator__min_samples_split=8, learning_rate=0.667, n_estimators=150; total time=  10.5s\n"
     ]
    },
    {
     "name": "stderr",
     "output_type": "stream",
     "text": [
      "/Users/jinushin/dacon/.venv/lib/python3.10/site-packages/sklearn/ensemble/_weight_boosting.py:519: FutureWarning: The SAMME.R algorithm (the default) is deprecated and will be removed in 1.6. Use the SAMME algorithm to circumvent this warning.\n",
      "  warnings.warn(\n"
     ]
    },
    {
     "name": "stdout",
     "output_type": "stream",
     "text": [
      "[CV] END algorithm=SAMME.R, estimator__max_depth=9, estimator__min_samples_leaf=2, estimator__min_samples_split=8, learning_rate=0.667, n_estimators=150; total time=  10.8s\n"
     ]
    },
    {
     "name": "stderr",
     "output_type": "stream",
     "text": [
      "/Users/jinushin/dacon/.venv/lib/python3.10/site-packages/sklearn/ensemble/_weight_boosting.py:519: FutureWarning: The SAMME.R algorithm (the default) is deprecated and will be removed in 1.6. Use the SAMME algorithm to circumvent this warning.\n",
      "  warnings.warn(\n"
     ]
    },
    {
     "name": "stdout",
     "output_type": "stream",
     "text": [
      "[CV] END algorithm=SAMME.R, estimator__max_depth=5, estimator__min_samples_leaf=1, estimator__min_samples_split=2, learning_rate=0.889, n_estimators=150; total time=   6.4s\n"
     ]
    },
    {
     "name": "stderr",
     "output_type": "stream",
     "text": [
      "/Users/jinushin/dacon/.venv/lib/python3.10/site-packages/sklearn/ensemble/_weight_boosting.py:519: FutureWarning: The SAMME.R algorithm (the default) is deprecated and will be removed in 1.6. Use the SAMME algorithm to circumvent this warning.\n",
      "  warnings.warn(\n"
     ]
    },
    {
     "name": "stdout",
     "output_type": "stream",
     "text": [
      "[CV] END algorithm=SAMME.R, estimator__max_depth=5, estimator__min_samples_leaf=1, estimator__min_samples_split=2, learning_rate=0.889, n_estimators=150; total time=   6.4s\n",
      "[CV] END algorithm=SAMME.R, estimator__max_depth=5, estimator__min_samples_leaf=1, estimator__min_samples_split=2, learning_rate=0.889, n_estimators=150; total time=   6.2s\n"
     ]
    },
    {
     "name": "stderr",
     "output_type": "stream",
     "text": [
      "/Users/jinushin/dacon/.venv/lib/python3.10/site-packages/sklearn/ensemble/_weight_boosting.py:519: FutureWarning: The SAMME.R algorithm (the default) is deprecated and will be removed in 1.6. Use the SAMME algorithm to circumvent this warning.\n",
      "  warnings.warn(\n",
      "/Users/jinushin/dacon/.venv/lib/python3.10/site-packages/sklearn/ensemble/_weight_boosting.py:519: FutureWarning: The SAMME.R algorithm (the default) is deprecated and will be removed in 1.6. Use the SAMME algorithm to circumvent this warning.\n",
      "  warnings.warn(\n"
     ]
    },
    {
     "name": "stdout",
     "output_type": "stream",
     "text": [
      "[CV] END algorithm=SAMME.R, estimator__max_depth=5, estimator__min_samples_leaf=1, estimator__min_samples_split=2, learning_rate=0.889, n_estimators=150; total time=   6.4s\n"
     ]
    },
    {
     "name": "stderr",
     "output_type": "stream",
     "text": [
      "/Users/jinushin/dacon/.venv/lib/python3.10/site-packages/sklearn/ensemble/_weight_boosting.py:519: FutureWarning: The SAMME.R algorithm (the default) is deprecated and will be removed in 1.6. Use the SAMME algorithm to circumvent this warning.\n",
      "  warnings.warn(\n"
     ]
    },
    {
     "name": "stdout",
     "output_type": "stream",
     "text": [
      "[CV] END algorithm=SAMME.R, estimator__max_depth=5, estimator__min_samples_leaf=1, estimator__min_samples_split=2, learning_rate=0.889, n_estimators=150; total time=   6.4s\n"
     ]
    },
    {
     "name": "stderr",
     "output_type": "stream",
     "text": [
      "/Users/jinushin/dacon/.venv/lib/python3.10/site-packages/sklearn/ensemble/_weight_boosting.py:519: FutureWarning: The SAMME.R algorithm (the default) is deprecated and will be removed in 1.6. Use the SAMME algorithm to circumvent this warning.\n",
      "  warnings.warn(\n"
     ]
    },
    {
     "name": "stdout",
     "output_type": "stream",
     "text": [
      "[CV] END algorithm=SAMME, estimator__max_depth=4, estimator__min_samples_leaf=3, estimator__min_samples_split=8, learning_rate=0.778, n_estimators=250; total time=   8.6s\n"
     ]
    },
    {
     "name": "stderr",
     "output_type": "stream",
     "text": [
      "/Users/jinushin/dacon/.venv/lib/python3.10/site-packages/sklearn/ensemble/_weight_boosting.py:519: FutureWarning: The SAMME.R algorithm (the default) is deprecated and will be removed in 1.6. Use the SAMME algorithm to circumvent this warning.\n",
      "  warnings.warn(\n"
     ]
    },
    {
     "name": "stdout",
     "output_type": "stream",
     "text": [
      "[CV] END algorithm=SAMME, estimator__max_depth=4, estimator__min_samples_leaf=3, estimator__min_samples_split=8, learning_rate=0.778, n_estimators=250; total time=   8.7s\n"
     ]
    },
    {
     "name": "stderr",
     "output_type": "stream",
     "text": [
      "/Users/jinushin/dacon/.venv/lib/python3.10/site-packages/sklearn/ensemble/_weight_boosting.py:519: FutureWarning: The SAMME.R algorithm (the default) is deprecated and will be removed in 1.6. Use the SAMME algorithm to circumvent this warning.\n",
      "  warnings.warn(\n"
     ]
    },
    {
     "name": "stdout",
     "output_type": "stream",
     "text": [
      "[CV] END algorithm=SAMME, estimator__max_depth=4, estimator__min_samples_leaf=3, estimator__min_samples_split=8, learning_rate=0.778, n_estimators=250; total time=   8.6s\n",
      "[CV] END algorithm=SAMME, estimator__max_depth=4, estimator__min_samples_leaf=3, estimator__min_samples_split=8, learning_rate=0.778, n_estimators=250; total time=   8.5s\n"
     ]
    },
    {
     "name": "stderr",
     "output_type": "stream",
     "text": [
      "/Users/jinushin/dacon/.venv/lib/python3.10/site-packages/sklearn/ensemble/_weight_boosting.py:519: FutureWarning: The SAMME.R algorithm (the default) is deprecated and will be removed in 1.6. Use the SAMME algorithm to circumvent this warning.\n",
      "  warnings.warn(\n"
     ]
    },
    {
     "name": "stdout",
     "output_type": "stream",
     "text": [
      "[CV] END algorithm=SAMME, estimator__max_depth=4, estimator__min_samples_leaf=3, estimator__min_samples_split=8, learning_rate=0.778, n_estimators=250; total time=   8.7s\n",
      "[CV] END algorithm=SAMME.R, estimator__max_depth=9, estimator__min_samples_leaf=2, estimator__min_samples_split=4, learning_rate=0.001, n_estimators=150; total time=  10.0s\n",
      "[CV] END algorithm=SAMME.R, estimator__max_depth=9, estimator__min_samples_leaf=2, estimator__min_samples_split=4, learning_rate=0.001, n_estimators=150; total time=   9.9s\n",
      "[CV] END algorithm=SAMME.R, estimator__max_depth=3, estimator__min_samples_leaf=1, estimator__min_samples_split=2, learning_rate=0.334, n_estimators=300; total time=   8.0s\n",
      "[CV] END algorithm=SAMME.R, estimator__max_depth=3, estimator__min_samples_leaf=1, estimator__min_samples_split=2, learning_rate=0.334, n_estimators=300; total time=   7.9s\n"
     ]
    },
    {
     "name": "stderr",
     "output_type": "stream",
     "text": [
      "/Users/jinushin/dacon/.venv/lib/python3.10/site-packages/sklearn/ensemble/_weight_boosting.py:519: FutureWarning: The SAMME.R algorithm (the default) is deprecated and will be removed in 1.6. Use the SAMME algorithm to circumvent this warning.\n",
      "  warnings.warn(\n"
     ]
    },
    {
     "name": "stdout",
     "output_type": "stream",
     "text": [
      "[CV] END algorithm=SAMME.R, estimator__max_depth=9, estimator__min_samples_leaf=2, estimator__min_samples_split=4, learning_rate=0.001, n_estimators=150; total time=  10.0s\n"
     ]
    },
    {
     "name": "stderr",
     "output_type": "stream",
     "text": [
      "/Users/jinushin/dacon/.venv/lib/python3.10/site-packages/sklearn/ensemble/_weight_boosting.py:519: FutureWarning: The SAMME.R algorithm (the default) is deprecated and will be removed in 1.6. Use the SAMME algorithm to circumvent this warning.\n",
      "  warnings.warn(\n"
     ]
    },
    {
     "name": "stdout",
     "output_type": "stream",
     "text": [
      "[CV] END algorithm=SAMME.R, estimator__max_depth=9, estimator__min_samples_leaf=2, estimator__min_samples_split=4, learning_rate=0.001, n_estimators=150; total time=  10.0s\n"
     ]
    },
    {
     "name": "stderr",
     "output_type": "stream",
     "text": [
      "/Users/jinushin/dacon/.venv/lib/python3.10/site-packages/sklearn/ensemble/_weight_boosting.py:519: FutureWarning: The SAMME.R algorithm (the default) is deprecated and will be removed in 1.6. Use the SAMME algorithm to circumvent this warning.\n",
      "  warnings.warn(\n"
     ]
    },
    {
     "name": "stdout",
     "output_type": "stream",
     "text": [
      "[CV] END algorithm=SAMME.R, estimator__max_depth=9, estimator__min_samples_leaf=2, estimator__min_samples_split=4, learning_rate=0.001, n_estimators=150; total time=  10.3s\n"
     ]
    },
    {
     "name": "stderr",
     "output_type": "stream",
     "text": [
      "/Users/jinushin/dacon/.venv/lib/python3.10/site-packages/sklearn/ensemble/_weight_boosting.py:519: FutureWarning: The SAMME.R algorithm (the default) is deprecated and will be removed in 1.6. Use the SAMME algorithm to circumvent this warning.\n",
      "  warnings.warn(\n"
     ]
    },
    {
     "name": "stdout",
     "output_type": "stream",
     "text": [
      "[CV] END algorithm=SAMME.R, estimator__max_depth=3, estimator__min_samples_leaf=1, estimator__min_samples_split=2, learning_rate=0.334, n_estimators=300; total time=   7.9s\n"
     ]
    },
    {
     "name": "stderr",
     "output_type": "stream",
     "text": [
      "/Users/jinushin/dacon/.venv/lib/python3.10/site-packages/sklearn/ensemble/_weight_boosting.py:519: FutureWarning: The SAMME.R algorithm (the default) is deprecated and will be removed in 1.6. Use the SAMME algorithm to circumvent this warning.\n",
      "  warnings.warn(\n"
     ]
    },
    {
     "name": "stdout",
     "output_type": "stream",
     "text": [
      "[CV] END algorithm=SAMME.R, estimator__max_depth=3, estimator__min_samples_leaf=1, estimator__min_samples_split=2, learning_rate=0.334, n_estimators=300; total time=   8.0s\n",
      "[CV] END algorithm=SAMME.R, estimator__max_depth=3, estimator__min_samples_leaf=1, estimator__min_samples_split=2, learning_rate=0.334, n_estimators=300; total time=   7.9s\n",
      "[CV] END algorithm=SAMME.R, estimator__max_depth=4, estimator__min_samples_leaf=2, estimator__min_samples_split=6, learning_rate=0.001, n_estimators=200; total time=   6.7s\n",
      "[CV] END algorithm=SAMME, estimator__max_depth=7, estimator__min_samples_leaf=4, estimator__min_samples_split=8, learning_rate=0.778, n_estimators=50; total time=   2.8s\n",
      "[CV] END algorithm=SAMME.R, estimator__max_depth=4, estimator__min_samples_leaf=2, estimator__min_samples_split=6, learning_rate=0.001, n_estimators=200; total time=   6.8s\n",
      "[CV] END algorithm=SAMME.R, estimator__max_depth=4, estimator__min_samples_leaf=2, estimator__min_samples_split=6, learning_rate=0.001, n_estimators=200; total time=   6.4s\n",
      "[CV] END algorithm=SAMME, estimator__max_depth=7, estimator__min_samples_leaf=4, estimator__min_samples_split=8, learning_rate=0.778, n_estimators=50; total time=   2.8s\n",
      "[CV] END algorithm=SAMME.R, estimator__max_depth=4, estimator__min_samples_leaf=2, estimator__min_samples_split=6, learning_rate=0.001, n_estimators=200; total time=   6.7s\n",
      "[CV] END algorithm=SAMME.R, estimator__max_depth=4, estimator__min_samples_leaf=2, estimator__min_samples_split=6, learning_rate=0.001, n_estimators=200; total time=   6.5s\n",
      "[CV] END algorithm=SAMME, estimator__max_depth=7, estimator__min_samples_leaf=4, estimator__min_samples_split=8, learning_rate=0.778, n_estimators=50; total time=   2.7s\n",
      "[CV] END algorithm=SAMME, estimator__max_depth=7, estimator__min_samples_leaf=4, estimator__min_samples_split=8, learning_rate=0.778, n_estimators=50; total time=   2.7s\n",
      "[CV] END algorithm=SAMME, estimator__max_depth=7, estimator__min_samples_leaf=4, estimator__min_samples_split=8, learning_rate=0.778, n_estimators=50; total time=   2.8s\n",
      "[CV] END algorithm=SAMME, estimator__max_depth=1, estimator__min_samples_leaf=3, estimator__min_samples_split=6, learning_rate=0.889, n_estimators=100; total time=   1.0s\n",
      "[CV] END algorithm=SAMME, estimator__max_depth=1, estimator__min_samples_leaf=3, estimator__min_samples_split=6, learning_rate=0.889, n_estimators=100; total time=   1.1s\n",
      "[CV] END algorithm=SAMME, estimator__max_depth=1, estimator__min_samples_leaf=3, estimator__min_samples_split=6, learning_rate=0.889, n_estimators=100; total time=   1.0s\n",
      "[CV] END algorithm=SAMME, estimator__max_depth=1, estimator__min_samples_leaf=3, estimator__min_samples_split=6, learning_rate=0.889, n_estimators=100; total time=   1.0s\n"
     ]
    },
    {
     "name": "stderr",
     "output_type": "stream",
     "text": [
      "/Users/jinushin/dacon/.venv/lib/python3.10/site-packages/sklearn/ensemble/_weight_boosting.py:519: FutureWarning: The SAMME.R algorithm (the default) is deprecated and will be removed in 1.6. Use the SAMME algorithm to circumvent this warning.\n",
      "  warnings.warn(\n"
     ]
    },
    {
     "name": "stdout",
     "output_type": "stream",
     "text": [
      "[CV] END algorithm=SAMME, estimator__max_depth=1, estimator__min_samples_leaf=3, estimator__min_samples_split=6, learning_rate=0.889, n_estimators=100; total time=   1.0s\n"
     ]
    },
    {
     "name": "stderr",
     "output_type": "stream",
     "text": [
      "/Users/jinushin/dacon/.venv/lib/python3.10/site-packages/sklearn/ensemble/_weight_boosting.py:519: FutureWarning: The SAMME.R algorithm (the default) is deprecated and will be removed in 1.6. Use the SAMME algorithm to circumvent this warning.\n",
      "  warnings.warn(\n"
     ]
    },
    {
     "name": "stdout",
     "output_type": "stream",
     "text": [
      "[CV] END algorithm=SAMME, estimator__max_depth=2, estimator__min_samples_leaf=2, estimator__min_samples_split=8, learning_rate=0.001, n_estimators=300; total time=   5.5s\n"
     ]
    },
    {
     "name": "stderr",
     "output_type": "stream",
     "text": [
      "/Users/jinushin/dacon/.venv/lib/python3.10/site-packages/sklearn/ensemble/_weight_boosting.py:519: FutureWarning: The SAMME.R algorithm (the default) is deprecated and will be removed in 1.6. Use the SAMME algorithm to circumvent this warning.\n",
      "  warnings.warn(\n"
     ]
    },
    {
     "name": "stdout",
     "output_type": "stream",
     "text": [
      "[CV] END algorithm=SAMME, estimator__max_depth=2, estimator__min_samples_leaf=2, estimator__min_samples_split=8, learning_rate=0.001, n_estimators=300; total time=   5.7s\n",
      "[CV] END algorithm=SAMME, estimator__max_depth=2, estimator__min_samples_leaf=2, estimator__min_samples_split=8, learning_rate=0.001, n_estimators=300; total time=   5.5s\n"
     ]
    },
    {
     "name": "stderr",
     "output_type": "stream",
     "text": [
      "/Users/jinushin/dacon/.venv/lib/python3.10/site-packages/sklearn/ensemble/_weight_boosting.py:519: FutureWarning: The SAMME.R algorithm (the default) is deprecated and will be removed in 1.6. Use the SAMME algorithm to circumvent this warning.\n",
      "  warnings.warn(\n",
      "/Users/jinushin/dacon/.venv/lib/python3.10/site-packages/sklearn/ensemble/_weight_boosting.py:519: FutureWarning: The SAMME.R algorithm (the default) is deprecated and will be removed in 1.6. Use the SAMME algorithm to circumvent this warning.\n",
      "  warnings.warn(\n"
     ]
    },
    {
     "name": "stdout",
     "output_type": "stream",
     "text": [
      "[CV] END algorithm=SAMME, estimator__max_depth=2, estimator__min_samples_leaf=2, estimator__min_samples_split=8, learning_rate=0.001, n_estimators=300; total time=   5.6s\n",
      "[CV] END algorithm=SAMME, estimator__max_depth=2, estimator__min_samples_leaf=2, estimator__min_samples_split=8, learning_rate=0.001, n_estimators=300; total time=   5.5s\n",
      "[CV] END algorithm=SAMME, estimator__max_depth=10, estimator__min_samples_leaf=2, estimator__min_samples_split=10, learning_rate=0.334, n_estimators=300; total time=  22.6s\n",
      "[CV] END algorithm=SAMME, estimator__max_depth=3, estimator__min_samples_leaf=1, estimator__min_samples_split=2, learning_rate=0.556, n_estimators=200; total time=   5.2s\n",
      "[CV] END algorithm=SAMME, estimator__max_depth=3, estimator__min_samples_leaf=1, estimator__min_samples_split=2, learning_rate=0.556, n_estimators=200; total time=   5.2s\n",
      "[CV] END algorithm=SAMME, estimator__max_depth=10, estimator__min_samples_leaf=2, estimator__min_samples_split=10, learning_rate=0.334, n_estimators=300; total time=  23.1s\n",
      "[CV] END algorithm=SAMME, estimator__max_depth=10, estimator__min_samples_leaf=2, estimator__min_samples_split=10, learning_rate=0.334, n_estimators=300; total time=  23.0s\n",
      "[CV] END algorithm=SAMME, estimator__max_depth=10, estimator__min_samples_leaf=2, estimator__min_samples_split=10, learning_rate=0.334, n_estimators=300; total time=  22.9s\n",
      "[CV] END algorithm=SAMME, estimator__max_depth=10, estimator__min_samples_leaf=2, estimator__min_samples_split=10, learning_rate=0.334, n_estimators=300; total time=  22.9s\n",
      "[CV] END algorithm=SAMME, estimator__max_depth=3, estimator__min_samples_leaf=1, estimator__min_samples_split=2, learning_rate=0.556, n_estimators=200; total time=   4.4s\n",
      "[CV] END algorithm=SAMME, estimator__max_depth=3, estimator__min_samples_leaf=1, estimator__min_samples_split=2, learning_rate=0.556, n_estimators=200; total time=   4.5s\n",
      "[CV] END algorithm=SAMME, estimator__max_depth=3, estimator__min_samples_leaf=1, estimator__min_samples_split=2, learning_rate=0.556, n_estimators=200; total time=   4.5s\n",
      "[CV] END algorithm=SAMME.R, estimator__max_depth=10, estimator__min_samples_leaf=2, estimator__min_samples_split=8, learning_rate=0.889, n_estimators=300; total time=  19.2s\n",
      "[CV] END algorithm=SAMME.R, estimator__max_depth=10, estimator__min_samples_leaf=2, estimator__min_samples_split=8, learning_rate=0.889, n_estimators=300; total time=  19.0s\n",
      "[CV] END algorithm=SAMME.R, estimator__max_depth=10, estimator__min_samples_leaf=2, estimator__min_samples_split=8, learning_rate=0.889, n_estimators=300; total time=  19.2s\n",
      "[CV] END algorithm=SAMME.R, estimator__max_depth=10, estimator__min_samples_leaf=2, estimator__min_samples_split=8, learning_rate=0.889, n_estimators=300; total time=  18.8s\n",
      "[CV] END algorithm=SAMME.R, estimator__max_depth=10, estimator__min_samples_leaf=2, estimator__min_samples_split=8, learning_rate=0.889, n_estimators=300; total time=  19.0s\n",
      "Best Parameters: {'n_estimators': 300, 'learning_rate': 0.889, 'estimator__min_samples_split': 8, 'estimator__min_samples_leaf': 2, 'estimator__max_depth': 10, 'algorithm': 'SAMME.R'}\n",
      "Best Accuracy: 0.7746\n"
     ]
    }
   ],
   "source": [
    "# RandomizedSearchCV에서 사용할 파라미터 범위\n",
    "param_dist = {\n",
    "    'n_estimators': np.arange(50, 301, 50),\n",
    "    'learning_rate': np.linspace(0.001, 1.0, 10),\n",
    "    'algorithm': ['SAMME', 'SAMME.R'],\n",
    "    'estimator__max_depth': np.arange(1, 11, 1),\n",
    "    'estimator__min_samples_split': np.arange(2, 11, 2),\n",
    "    'estimator__min_samples_leaf': np.arange(1, 5)\n",
    "}\n",
    "\n",
    "# RandomizedSearchCV 실행 (n_iter=20이면 20개 조합만 탐색)\n",
    "random_search = RandomizedSearchCV(\n",
    "    estimator=ada,\n",
    "    param_distributions=param_dist,\n",
    "    n_iter=20,  # 탐색할 조합 수 (GridSearch보다 빠름)\n",
    "    cv=5,\n",
    "    scoring='accuracy',\n",
    "    n_jobs=-1,\n",
    "    random_state=42,\n",
    "    verbose=2\n",
    ")\n",
    "\n",
    "# 모델 학습\n",
    "random_search.fit(X_train, y_train)\n",
    "\n",
    "# 최적의 하이퍼파라미터 출력\n",
    "print(f\"Best Parameters: {random_search.best_params_}\")\n",
    "print(f\"Best Accuracy: {random_search.best_score_:.4f}\")\n"
   ]
  },
  {
   "cell_type": "code",
   "execution_count": 38,
   "metadata": {},
   "outputs": [],
   "source": [
    "# 최적의 모델 평가\n",
    "best_ada = random_search.best_estimator_"
   ]
  },
  {
   "cell_type": "code",
   "execution_count": 39,
   "metadata": {},
   "outputs": [],
   "source": [
    "# 최적의 모델 평가\n",
    "best_ada = random_search.best_estimator_"
   ]
  },
  {
   "cell_type": "code",
   "execution_count": 40,
   "metadata": {},
   "outputs": [],
   "source": [
    "# 채무 불이행 '확률'을 예측합니다.\n",
    "preds = best_ada.predict_proba(test_scaled)[:,1]"
   ]
  },
  {
   "cell_type": "code",
   "execution_count": 41,
   "metadata": {},
   "outputs": [],
   "source": [
    "submit = pd.read_csv('open/sample_submission.csv')\n",
    "\n",
    "# 결과 저장\n",
    "submit['채무 불이행 확률'] = preds\n",
    "submit.to_csv('ada5.csv', encoding='UTF-8-sig', index=False)"
   ]
  },
  {
   "cell_type": "code",
   "execution_count": 33,
   "metadata": {},
   "outputs": [
    {
     "name": "stdout",
     "output_type": "stream",
     "text": [
      "Fitting 5 folds for each of 20 candidates, totalling 100 fits\n",
      "[CV] END learning_rate=0.036000000000000004, max_depth=23, min_samples_leaf=6, min_samples_split=2, n_estimators=120, subsample=1.0; total time=  14.0s\n",
      "[CV] END learning_rate=0.036000000000000004, max_depth=23, min_samples_leaf=6, min_samples_split=2, n_estimators=120, subsample=1.0; total time=  15.3s\n",
      "[CV] END learning_rate=0.215, max_depth=13, min_samples_leaf=5, min_samples_split=4, n_estimators=370, subsample=0.8; total time=  24.4s\n",
      "[CV] END learning_rate=0.215, max_depth=13, min_samples_leaf=5, min_samples_split=4, n_estimators=370, subsample=0.8; total time=  24.7s\n",
      "[CV] END learning_rate=0.036000000000000004, max_depth=23, min_samples_leaf=6, min_samples_split=2, n_estimators=120, subsample=1.0; total time=  12.3s\n",
      "[CV] END learning_rate=0.215, max_depth=13, min_samples_leaf=5, min_samples_split=4, n_estimators=370, subsample=0.8; total time=  28.8s\n",
      "[CV] END learning_rate=0.215, max_depth=13, min_samples_leaf=5, min_samples_split=4, n_estimators=370, subsample=0.8; total time=  29.2s\n",
      "[CV] END learning_rate=0.215, max_depth=13, min_samples_leaf=5, min_samples_split=4, n_estimators=370, subsample=0.8; total time=  29.5s\n",
      "[CV] END learning_rate=0.036000000000000004, max_depth=23, min_samples_leaf=6, min_samples_split=2, n_estimators=120, subsample=1.0; total time=  16.0s\n",
      "[CV] END learning_rate=0.26, max_depth=9, min_samples_leaf=4, min_samples_split=2, n_estimators=500, subsample=0.9; total time=  33.9s\n",
      "[CV] END learning_rate=0.26, max_depth=9, min_samples_leaf=4, min_samples_split=2, n_estimators=500, subsample=0.9; total time=  34.0s\n",
      "[CV] END learning_rate=0.26, max_depth=9, min_samples_leaf=4, min_samples_split=2, n_estimators=500, subsample=0.9; total time=  34.5s\n",
      "[CV] END learning_rate=0.26, max_depth=9, min_samples_leaf=4, min_samples_split=2, n_estimators=500, subsample=0.9; total time=  34.8s\n",
      "[CV] END learning_rate=0.26, max_depth=9, min_samples_leaf=4, min_samples_split=2, n_estimators=500, subsample=0.9; total time=  35.0s\n",
      "[CV] END learning_rate=0.23500000000000001, max_depth=21, min_samples_leaf=6, min_samples_split=8, n_estimators=140, subsample=0.7; total time=  11.2s\n",
      "[CV] END learning_rate=0.156, max_depth=7, min_samples_leaf=3, min_samples_split=8, n_estimators=100, subsample=1.0; total time=   5.6s\n",
      "[CV] END learning_rate=0.036000000000000004, max_depth=23, min_samples_leaf=6, min_samples_split=2, n_estimators=120, subsample=1.0; total time=  13.7s\n",
      "[CV] END learning_rate=0.156, max_depth=7, min_samples_leaf=3, min_samples_split=8, n_estimators=100, subsample=1.0; total time=   5.4s\n",
      "[CV] END learning_rate=0.156, max_depth=7, min_samples_leaf=3, min_samples_split=8, n_estimators=100, subsample=1.0; total time=   5.4s\n",
      "[CV] END learning_rate=0.23500000000000001, max_depth=21, min_samples_leaf=6, min_samples_split=8, n_estimators=140, subsample=0.7; total time=  13.4s\n",
      "[CV] END learning_rate=0.156, max_depth=7, min_samples_leaf=3, min_samples_split=8, n_estimators=100, subsample=1.0; total time=   5.4s\n",
      "[CV] END learning_rate=0.156, max_depth=7, min_samples_leaf=3, min_samples_split=8, n_estimators=100, subsample=1.0; total time=   5.4s\n",
      "[CV] END learning_rate=0.23500000000000001, max_depth=21, min_samples_leaf=6, min_samples_split=8, n_estimators=140, subsample=0.7; total time=  13.3s\n",
      "[CV] END learning_rate=0.23500000000000001, max_depth=21, min_samples_leaf=6, min_samples_split=8, n_estimators=140, subsample=0.7; total time=  13.4s\n",
      "[CV] END learning_rate=0.23500000000000001, max_depth=21, min_samples_leaf=6, min_samples_split=8, n_estimators=140, subsample=0.7; total time=  13.4s\n",
      "[CV] END learning_rate=0.12000000000000001, max_depth=11, min_samples_leaf=2, min_samples_split=2, n_estimators=50, subsample=0.8; total time=   3.7s\n",
      "[CV] END learning_rate=0.12000000000000001, max_depth=11, min_samples_leaf=2, min_samples_split=2, n_estimators=50, subsample=0.8; total time=   3.6s\n",
      "[CV] END learning_rate=0.12000000000000001, max_depth=11, min_samples_leaf=2, min_samples_split=2, n_estimators=50, subsample=0.8; total time=   3.6s\n",
      "[CV] END learning_rate=0.12000000000000001, max_depth=11, min_samples_leaf=2, min_samples_split=2, n_estimators=50, subsample=0.8; total time=   3.7s\n",
      "[CV] END learning_rate=0.12000000000000001, max_depth=11, min_samples_leaf=2, min_samples_split=2, n_estimators=50, subsample=0.8; total time=   3.6s\n",
      "[CV] END learning_rate=0.17, max_depth=15, min_samples_leaf=4, min_samples_split=8, n_estimators=470, subsample=0.6; total time=  22.9s\n",
      "[CV] END learning_rate=0.081, max_depth=9, min_samples_leaf=6, min_samples_split=8, n_estimators=380, subsample=0.6; total time=  16.6s\n",
      "[CV] END learning_rate=0.081, max_depth=9, min_samples_leaf=6, min_samples_split=8, n_estimators=380, subsample=0.6; total time=  16.7s\n",
      "[CV] END learning_rate=0.081, max_depth=9, min_samples_leaf=6, min_samples_split=8, n_estimators=380, subsample=0.6; total time=  16.5s\n",
      "[CV] END learning_rate=0.081, max_depth=9, min_samples_leaf=6, min_samples_split=8, n_estimators=380, subsample=0.6; total time=  16.8s\n",
      "[CV] END learning_rate=0.081, max_depth=9, min_samples_leaf=6, min_samples_split=8, n_estimators=380, subsample=0.6; total time=  17.3s\n",
      "[CV] END learning_rate=0.225, max_depth=19, min_samples_leaf=2, min_samples_split=4, n_estimators=420, subsample=0.8; total time=  19.0s\n",
      "[CV] END learning_rate=0.17, max_depth=15, min_samples_leaf=4, min_samples_split=8, n_estimators=470, subsample=0.6; total time=  26.6s\n",
      "[CV] END learning_rate=0.17, max_depth=15, min_samples_leaf=4, min_samples_split=8, n_estimators=470, subsample=0.6; total time=  29.6s\n",
      "[CV] END learning_rate=0.225, max_depth=19, min_samples_leaf=2, min_samples_split=4, n_estimators=420, subsample=0.8; total time=  19.2s\n",
      "[CV] END learning_rate=0.17, max_depth=15, min_samples_leaf=4, min_samples_split=8, n_estimators=470, subsample=0.6; total time=  27.6s\n",
      "[CV] END learning_rate=0.17, max_depth=15, min_samples_leaf=4, min_samples_split=8, n_estimators=470, subsample=0.6; total time=  28.0s\n",
      "[CV] END learning_rate=0.225, max_depth=19, min_samples_leaf=2, min_samples_split=4, n_estimators=420, subsample=0.8; total time=  15.1s\n",
      "[CV] END learning_rate=0.299, max_depth=17, min_samples_leaf=4, min_samples_split=4, n_estimators=300, subsample=0.8; total time=  15.9s\n",
      "[CV] END learning_rate=0.299, max_depth=17, min_samples_leaf=4, min_samples_split=4, n_estimators=300, subsample=0.8; total time=  15.3s\n",
      "[CV] END learning_rate=0.299, max_depth=17, min_samples_leaf=4, min_samples_split=4, n_estimators=300, subsample=0.8; total time=  15.5s\n",
      "[CV] END learning_rate=0.225, max_depth=19, min_samples_leaf=2, min_samples_split=4, n_estimators=420, subsample=0.8; total time=  18.8s\n",
      "[CV] END learning_rate=0.299, max_depth=17, min_samples_leaf=4, min_samples_split=4, n_estimators=300, subsample=0.8; total time=  15.7s\n",
      "[CV] END learning_rate=0.299, max_depth=17, min_samples_leaf=4, min_samples_split=4, n_estimators=300, subsample=0.8; total time=  15.2s\n",
      "[CV] END learning_rate=0.07300000000000001, max_depth=21, min_samples_leaf=2, min_samples_split=8, n_estimators=110, subsample=0.9; total time=  14.9s\n",
      "[CV] END learning_rate=0.07300000000000001, max_depth=21, min_samples_leaf=2, min_samples_split=8, n_estimators=110, subsample=0.9; total time=  14.9s\n",
      "[CV] END learning_rate=0.07300000000000001, max_depth=21, min_samples_leaf=2, min_samples_split=8, n_estimators=110, subsample=0.9; total time=  14.5s\n",
      "[CV] END learning_rate=0.225, max_depth=19, min_samples_leaf=2, min_samples_split=4, n_estimators=420, subsample=0.8; total time=  21.1s\n",
      "[CV] END learning_rate=0.07300000000000001, max_depth=21, min_samples_leaf=2, min_samples_split=8, n_estimators=110, subsample=0.9; total time=  14.1s\n",
      "[CV] END learning_rate=0.07300000000000001, max_depth=21, min_samples_leaf=2, min_samples_split=8, n_estimators=110, subsample=0.9; total time=  12.4s\n",
      "[CV] END learning_rate=0.097, max_depth=23, min_samples_leaf=3, min_samples_split=8, n_estimators=220, subsample=0.8; total time=  27.2s\n",
      "[CV] END learning_rate=0.097, max_depth=23, min_samples_leaf=3, min_samples_split=8, n_estimators=220, subsample=0.8; total time=  27.5s\n",
      "[CV] END learning_rate=0.097, max_depth=23, min_samples_leaf=3, min_samples_split=8, n_estimators=220, subsample=0.8; total time=  27.6s\n",
      "[CV] END learning_rate=0.097, max_depth=23, min_samples_leaf=3, min_samples_split=8, n_estimators=220, subsample=0.8; total time=  27.6s\n",
      "[CV] END learning_rate=0.097, max_depth=23, min_samples_leaf=3, min_samples_split=8, n_estimators=220, subsample=0.8; total time=  27.5s\n",
      "[CV] END learning_rate=0.054, max_depth=21, min_samples_leaf=5, min_samples_split=6, n_estimators=260, subsample=1.0; total time=  33.7s\n",
      "[CV] END learning_rate=0.054, max_depth=21, min_samples_leaf=5, min_samples_split=6, n_estimators=260, subsample=1.0; total time=  33.6s\n",
      "[CV] END learning_rate=0.148, max_depth=21, min_samples_leaf=3, min_samples_split=10, n_estimators=310, subsample=0.7; total time=  31.6s\n",
      "[CV] END learning_rate=0.054, max_depth=21, min_samples_leaf=5, min_samples_split=6, n_estimators=260, subsample=1.0; total time=  34.3s\n",
      "[CV] END learning_rate=0.054, max_depth=21, min_samples_leaf=5, min_samples_split=6, n_estimators=260, subsample=1.0; total time=  34.3s\n",
      "[CV] END learning_rate=0.054, max_depth=21, min_samples_leaf=5, min_samples_split=6, n_estimators=260, subsample=1.0; total time=  33.8s\n",
      "[CV] END learning_rate=0.148, max_depth=21, min_samples_leaf=3, min_samples_split=10, n_estimators=310, subsample=0.7; total time=  31.0s\n",
      "[CV] END learning_rate=0.002, max_depth=17, min_samples_leaf=6, min_samples_split=10, n_estimators=220, subsample=0.6; total time=  13.5s\n",
      "[CV] END learning_rate=0.002, max_depth=17, min_samples_leaf=6, min_samples_split=10, n_estimators=220, subsample=0.6; total time=  14.1s\n",
      "[CV] END learning_rate=0.002, max_depth=17, min_samples_leaf=6, min_samples_split=10, n_estimators=220, subsample=0.6; total time=  13.5s\n",
      "[CV] END learning_rate=0.002, max_depth=17, min_samples_leaf=6, min_samples_split=10, n_estimators=220, subsample=0.6; total time=  13.4s\n",
      "[CV] END learning_rate=0.258, max_depth=7, min_samples_leaf=5, min_samples_split=2, n_estimators=320, subsample=0.7; total time=  12.4s\n",
      "[CV] END learning_rate=0.258, max_depth=7, min_samples_leaf=5, min_samples_split=2, n_estimators=320, subsample=0.7; total time=  12.2s\n",
      "[CV] END learning_rate=0.258, max_depth=7, min_samples_leaf=5, min_samples_split=2, n_estimators=320, subsample=0.7; total time=  12.4s\n",
      "[CV] END learning_rate=0.002, max_depth=17, min_samples_leaf=6, min_samples_split=10, n_estimators=220, subsample=0.6; total time=  13.8s\n",
      "[CV] END learning_rate=0.258, max_depth=7, min_samples_leaf=5, min_samples_split=2, n_estimators=320, subsample=0.7; total time=  12.4s\n",
      "[CV] END learning_rate=0.258, max_depth=7, min_samples_leaf=5, min_samples_split=2, n_estimators=320, subsample=0.7; total time=  12.4s\n",
      "[CV] END learning_rate=0.148, max_depth=21, min_samples_leaf=3, min_samples_split=10, n_estimators=310, subsample=0.7; total time=  30.3s\n",
      "[CV] END learning_rate=0.148, max_depth=21, min_samples_leaf=3, min_samples_split=10, n_estimators=310, subsample=0.7; total time=  31.1s\n",
      "[CV] END learning_rate=0.148, max_depth=21, min_samples_leaf=3, min_samples_split=10, n_estimators=310, subsample=0.7; total time=  31.8s\n",
      "[CV] END learning_rate=0.021, max_depth=13, min_samples_leaf=1, min_samples_split=2, n_estimators=150, subsample=0.8; total time=  15.2s\n",
      "[CV] END learning_rate=0.021, max_depth=13, min_samples_leaf=1, min_samples_split=2, n_estimators=150, subsample=0.8; total time=  16.0s\n",
      "[CV] END learning_rate=0.021, max_depth=13, min_samples_leaf=1, min_samples_split=2, n_estimators=150, subsample=0.8; total time=  15.7s\n",
      "[CV] END learning_rate=0.021, max_depth=13, min_samples_leaf=1, min_samples_split=2, n_estimators=150, subsample=0.8; total time=  15.8s\n",
      "[CV] END learning_rate=0.021, max_depth=13, min_samples_leaf=1, min_samples_split=2, n_estimators=150, subsample=0.8; total time=  15.9s\n",
      "[CV] END learning_rate=0.092, max_depth=9, min_samples_leaf=6, min_samples_split=10, n_estimators=280, subsample=1.0; total time=  19.4s\n",
      "[CV] END learning_rate=0.158, max_depth=17, min_samples_leaf=1, min_samples_split=4, n_estimators=450, subsample=0.9; total time=  27.1s\n",
      "[CV] END learning_rate=0.092, max_depth=9, min_samples_leaf=6, min_samples_split=10, n_estimators=280, subsample=1.0; total time=  19.5s\n",
      "[CV] END learning_rate=0.158, max_depth=17, min_samples_leaf=1, min_samples_split=4, n_estimators=450, subsample=0.9; total time=  27.9s\n",
      "[CV] END learning_rate=0.092, max_depth=9, min_samples_leaf=6, min_samples_split=10, n_estimators=280, subsample=1.0; total time=  19.5s\n",
      "[CV] END learning_rate=0.158, max_depth=17, min_samples_leaf=1, min_samples_split=4, n_estimators=450, subsample=0.9; total time=  25.8s\n",
      "[CV] END learning_rate=0.158, max_depth=17, min_samples_leaf=1, min_samples_split=4, n_estimators=450, subsample=0.9; total time=  27.0s\n",
      "[CV] END learning_rate=0.157, max_depth=9, min_samples_leaf=2, min_samples_split=4, n_estimators=240, subsample=1.0; total time=  16.5s\n",
      "[CV] END learning_rate=0.157, max_depth=9, min_samples_leaf=2, min_samples_split=4, n_estimators=240, subsample=1.0; total time=  16.5s\n",
      "[CV] END learning_rate=0.158, max_depth=17, min_samples_leaf=1, min_samples_split=4, n_estimators=450, subsample=0.9; total time=  26.5s\n",
      "[CV] END learning_rate=0.092, max_depth=9, min_samples_leaf=6, min_samples_split=10, n_estimators=280, subsample=1.0; total time=  18.0s\n",
      "[CV] END learning_rate=0.092, max_depth=9, min_samples_leaf=6, min_samples_split=10, n_estimators=280, subsample=1.0; total time=  18.3s\n",
      "[CV] END learning_rate=0.157, max_depth=9, min_samples_leaf=2, min_samples_split=4, n_estimators=240, subsample=1.0; total time=  13.7s\n",
      "[CV] END learning_rate=0.157, max_depth=9, min_samples_leaf=2, min_samples_split=4, n_estimators=240, subsample=1.0; total time=  13.8s\n",
      "[CV] END learning_rate=0.157, max_depth=9, min_samples_leaf=2, min_samples_split=4, n_estimators=240, subsample=1.0; total time=  13.5s\n",
      "Best Parameters: {'subsample': 0.9, 'n_estimators': 450, 'min_samples_split': 4, 'min_samples_leaf': 1, 'max_depth': 17, 'learning_rate': 0.158}\n",
      "Best Accuracy: 0.7971\n"
     ]
    }
   ],
   "source": [
    "# GBC 모델 생성\n",
    "gbc = GradientBoostingClassifier(random_state=42)\n",
    "# RandomizedSearchCV에서 사용할 파라미터 범위\n",
    "param_dist = {\n",
    "    'n_estimators': np.arange(50, 501, 10),\n",
    "    'learning_rate': np.linspace(0.001, 0.3, 300),\n",
    "    'max_depth': np.arange(7, 25, 2),\n",
    "    'min_samples_split': np.arange(2, 11, 2),\n",
    "    'min_samples_leaf': np.arange(1, 7),\n",
    "    'subsample': np.linspace(0.6, 1.0, 5),\n",
    "    # 'max_features': ['sqrt', 'log2', None]\n",
    "}\n",
    "\n",
    "# RandomizedSearchCV 실행 (n_iter=20이면 20개 조합만 탐색)\n",
    "random_search = RandomizedSearchCV(\n",
    "    estimator=gbc,\n",
    "    param_distributions=param_dist,\n",
    "    n_iter=20,  # 탐색할 조합 수 (GridSearch보다 빠름)\n",
    "    cv=5,\n",
    "    scoring='accuracy',\n",
    "    n_jobs=-1,\n",
    "    random_state=42,\n",
    "    verbose=2\n",
    ")\n",
    "\n",
    "# 모델 학습\n",
    "random_search.fit(X_train, y_train)\n",
    "\n",
    "# 최적의 하이퍼파라미터 출력\n",
    "print(f\"Best Parameters: {random_search.best_params_}\")\n",
    "print(f\"Best Accuracy: {random_search.best_score_:.4f}\")\n"
   ]
  },
  {
   "cell_type": "code",
   "execution_count": 34,
   "metadata": {},
   "outputs": [],
   "source": [
    "best_gbc = random_search.best_estimator_\n"
   ]
  },
  {
   "cell_type": "code",
   "execution_count": 35,
   "metadata": {},
   "outputs": [],
   "source": [
    "# 채무 불이행 '확률'을 예측합니다.\n",
    "preds = best_gbc.predict_proba(test_df)[:,1]"
   ]
  },
  {
   "cell_type": "code",
   "execution_count": 36,
   "metadata": {},
   "outputs": [],
   "source": [
    "submit = pd.read_csv('open/sample_submission.csv')\n",
    "\n",
    "# 결과 저장\n",
    "submit['채무 불이행 확률'] = preds\n",
    "submit.to_csv('gbc5_somte.csv', encoding='UTF-8-sig', index=False)"
   ]
  },
  {
   "cell_type": "code",
   "execution_count": 42,
   "metadata": {},
   "outputs": [],
   "source": [
    "from lightgbm import LGBMClassifier\n",
    "\n",
    "# ✅ LightGBM 모델 생성\n",
    "model = LGBMClassifier(\n",
    "    n_estimators=100,\n",
    "    max_depth=5,\n",
    "    learning_rate=0.15,\n",
    "    random_state=42,\n",
    "    early_stopping_rounds=10\n",
    ")\n",
    "\n"
   ]
  },
  {
   "cell_type": "code",
   "execution_count": 43,
   "metadata": {},
   "outputs": [
    {
     "name": "stdout",
     "output_type": "stream",
     "text": [
      "[LightGBM] [Warning] early_stopping_round is set=10, early_stopping_rounds=10 will be ignored. Current value: early_stopping_round=10\n",
      "[LightGBM] [Info] Number of positive: 5255, number of negative: 5285\n",
      "[LightGBM] [Info] Auto-choosing row-wise multi-threading, the overhead of testing was 0.002058 seconds.\n",
      "You can set `force_row_wise=true` to remove the overhead.\n",
      "And if memory is not enough, you can set `force_col_wise=true`.\n",
      "[LightGBM] [Info] Total Bins 3056\n",
      "[LightGBM] [Info] Number of data points in the train set: 10540, number of used features: 27\n",
      "[LightGBM] [Warning] early_stopping_round is set=10, early_stopping_rounds=10 will be ignored. Current value: early_stopping_round=10\n",
      "[LightGBM] [Info] [binary:BoostFromScore]: pavg=0.498577 -> initscore=-0.005693\n",
      "[LightGBM] [Info] Start training from score -0.005693\n",
      "[LightGBM] [Warning] No further splits with positive gain, best gain: -inf\n",
      "Training until validation scores don't improve for 10 rounds\n",
      "[LightGBM] [Warning] No further splits with positive gain, best gain: -inf\n",
      "[LightGBM] [Warning] No further splits with positive gain, best gain: -inf\n",
      "[LightGBM] [Warning] No further splits with positive gain, best gain: -inf\n",
      "[LightGBM] [Warning] No further splits with positive gain, best gain: -inf\n",
      "[LightGBM] [Warning] No further splits with positive gain, best gain: -inf\n",
      "[LightGBM] [Warning] No further splits with positive gain, best gain: -inf\n",
      "[LightGBM] [Warning] No further splits with positive gain, best gain: -inf\n",
      "[LightGBM] [Warning] No further splits with positive gain, best gain: -inf\n",
      "[LightGBM] [Warning] No further splits with positive gain, best gain: -inf\n",
      "[LightGBM] [Warning] No further splits with positive gain, best gain: -inf\n",
      "[LightGBM] [Warning] No further splits with positive gain, best gain: -inf\n",
      "[LightGBM] [Warning] No further splits with positive gain, best gain: -inf\n",
      "[LightGBM] [Warning] No further splits with positive gain, best gain: -inf\n",
      "[LightGBM] [Warning] No further splits with positive gain, best gain: -inf\n",
      "[LightGBM] [Warning] No further splits with positive gain, best gain: -inf\n",
      "[LightGBM] [Warning] No further splits with positive gain, best gain: -inf\n",
      "[LightGBM] [Warning] No further splits with positive gain, best gain: -inf\n",
      "[LightGBM] [Warning] No further splits with positive gain, best gain: -inf\n",
      "[LightGBM] [Warning] No further splits with positive gain, best gain: -inf\n",
      "[LightGBM] [Warning] No further splits with positive gain, best gain: -inf\n",
      "[LightGBM] [Warning] No further splits with positive gain, best gain: -inf\n",
      "[LightGBM] [Warning] No further splits with positive gain, best gain: -inf\n",
      "[LightGBM] [Warning] No further splits with positive gain, best gain: -inf\n",
      "[LightGBM] [Warning] No further splits with positive gain, best gain: -inf\n",
      "[LightGBM] [Warning] No further splits with positive gain, best gain: -inf\n",
      "[LightGBM] [Warning] No further splits with positive gain, best gain: -inf\n",
      "[LightGBM] [Warning] No further splits with positive gain, best gain: -inf\n",
      "[LightGBM] [Warning] No further splits with positive gain, best gain: -inf\n",
      "[LightGBM] [Warning] No further splits with positive gain, best gain: -inf\n",
      "[LightGBM] [Warning] No further splits with positive gain, best gain: -inf\n",
      "[LightGBM] [Warning] No further splits with positive gain, best gain: -inf\n",
      "[LightGBM] [Warning] No further splits with positive gain, best gain: -inf\n",
      "[LightGBM] [Warning] No further splits with positive gain, best gain: -inf\n",
      "[LightGBM] [Warning] No further splits with positive gain, best gain: -inf\n",
      "[LightGBM] [Warning] No further splits with positive gain, best gain: -inf\n",
      "[LightGBM] [Warning] No further splits with positive gain, best gain: -inf\n",
      "[LightGBM] [Warning] No further splits with positive gain, best gain: -inf\n",
      "[LightGBM] [Warning] No further splits with positive gain, best gain: -inf\n",
      "[LightGBM] [Warning] No further splits with positive gain, best gain: -inf\n",
      "[LightGBM] [Warning] No further splits with positive gain, best gain: -inf\n",
      "[LightGBM] [Warning] No further splits with positive gain, best gain: -inf\n",
      "[LightGBM] [Warning] No further splits with positive gain, best gain: -inf\n",
      "[LightGBM] [Warning] No further splits with positive gain, best gain: -inf\n",
      "[LightGBM] [Warning] No further splits with positive gain, best gain: -inf\n",
      "[LightGBM] [Warning] No further splits with positive gain, best gain: -inf\n",
      "[LightGBM] [Warning] No further splits with positive gain, best gain: -inf\n",
      "[LightGBM] [Warning] No further splits with positive gain, best gain: -inf\n",
      "[LightGBM] [Warning] No further splits with positive gain, best gain: -inf\n",
      "[LightGBM] [Warning] No further splits with positive gain, best gain: -inf\n",
      "[LightGBM] [Warning] No further splits with positive gain, best gain: -inf\n",
      "[LightGBM] [Warning] No further splits with positive gain, best gain: -inf\n",
      "[LightGBM] [Warning] No further splits with positive gain, best gain: -inf\n",
      "[LightGBM] [Warning] No further splits with positive gain, best gain: -inf\n",
      "[LightGBM] [Warning] No further splits with positive gain, best gain: -inf\n",
      "[LightGBM] [Warning] No further splits with positive gain, best gain: -inf\n",
      "[LightGBM] [Warning] No further splits with positive gain, best gain: -inf\n",
      "[LightGBM] [Warning] No further splits with positive gain, best gain: -inf\n",
      "[LightGBM] [Warning] No further splits with positive gain, best gain: -inf\n",
      "[LightGBM] [Warning] No further splits with positive gain, best gain: -inf\n",
      "[LightGBM] [Warning] No further splits with positive gain, best gain: -inf\n",
      "[LightGBM] [Warning] No further splits with positive gain, best gain: -inf\n",
      "[LightGBM] [Warning] No further splits with positive gain, best gain: -inf\n",
      "[LightGBM] [Warning] No further splits with positive gain, best gain: -inf\n",
      "[LightGBM] [Warning] No further splits with positive gain, best gain: -inf\n",
      "[LightGBM] [Warning] No further splits with positive gain, best gain: -inf\n",
      "[LightGBM] [Warning] No further splits with positive gain, best gain: -inf\n",
      "[LightGBM] [Warning] No further splits with positive gain, best gain: -inf\n",
      "[LightGBM] [Warning] No further splits with positive gain, best gain: -inf\n",
      "[LightGBM] [Warning] No further splits with positive gain, best gain: -inf\n",
      "[LightGBM] [Warning] No further splits with positive gain, best gain: -inf\n",
      "[LightGBM] [Warning] No further splits with positive gain, best gain: -inf\n",
      "[LightGBM] [Warning] No further splits with positive gain, best gain: -inf\n",
      "[LightGBM] [Warning] No further splits with positive gain, best gain: -inf\n",
      "[LightGBM] [Warning] No further splits with positive gain, best gain: -inf\n",
      "[LightGBM] [Warning] No further splits with positive gain, best gain: -inf\n",
      "[LightGBM] [Warning] No further splits with positive gain, best gain: -inf\n",
      "[LightGBM] [Warning] No further splits with positive gain, best gain: -inf\n",
      "[LightGBM] [Warning] No further splits with positive gain, best gain: -inf\n",
      "[LightGBM] [Warning] No further splits with positive gain, best gain: -inf\n",
      "[LightGBM] [Warning] No further splits with positive gain, best gain: -inf\n",
      "[LightGBM] [Warning] No further splits with positive gain, best gain: -inf\n",
      "[LightGBM] [Warning] No further splits with positive gain, best gain: -inf\n",
      "Early stopping, best iteration is:\n",
      "[78]\ttraining's auc: 0.918784\ttraining's binary_logloss: 0.394047\tvalid_1's auc: 0.861189\tvalid_1's binary_logloss: 0.46504\n"
     ]
    },
    {
     "data": {
      "text/html": [
       "<style>#sk-container-id-1 {\n",
       "  /* Definition of color scheme common for light and dark mode */\n",
       "  --sklearn-color-text: black;\n",
       "  --sklearn-color-line: gray;\n",
       "  /* Definition of color scheme for unfitted estimators */\n",
       "  --sklearn-color-unfitted-level-0: #fff5e6;\n",
       "  --sklearn-color-unfitted-level-1: #f6e4d2;\n",
       "  --sklearn-color-unfitted-level-2: #ffe0b3;\n",
       "  --sklearn-color-unfitted-level-3: chocolate;\n",
       "  /* Definition of color scheme for fitted estimators */\n",
       "  --sklearn-color-fitted-level-0: #f0f8ff;\n",
       "  --sklearn-color-fitted-level-1: #d4ebff;\n",
       "  --sklearn-color-fitted-level-2: #b3dbfd;\n",
       "  --sklearn-color-fitted-level-3: cornflowerblue;\n",
       "\n",
       "  /* Specific color for light theme */\n",
       "  --sklearn-color-text-on-default-background: var(--sg-text-color, var(--theme-code-foreground, var(--jp-content-font-color1, black)));\n",
       "  --sklearn-color-background: var(--sg-background-color, var(--theme-background, var(--jp-layout-color0, white)));\n",
       "  --sklearn-color-border-box: var(--sg-text-color, var(--theme-code-foreground, var(--jp-content-font-color1, black)));\n",
       "  --sklearn-color-icon: #696969;\n",
       "\n",
       "  @media (prefers-color-scheme: dark) {\n",
       "    /* Redefinition of color scheme for dark theme */\n",
       "    --sklearn-color-text-on-default-background: var(--sg-text-color, var(--theme-code-foreground, var(--jp-content-font-color1, white)));\n",
       "    --sklearn-color-background: var(--sg-background-color, var(--theme-background, var(--jp-layout-color0, #111)));\n",
       "    --sklearn-color-border-box: var(--sg-text-color, var(--theme-code-foreground, var(--jp-content-font-color1, white)));\n",
       "    --sklearn-color-icon: #878787;\n",
       "  }\n",
       "}\n",
       "\n",
       "#sk-container-id-1 {\n",
       "  color: var(--sklearn-color-text);\n",
       "}\n",
       "\n",
       "#sk-container-id-1 pre {\n",
       "  padding: 0;\n",
       "}\n",
       "\n",
       "#sk-container-id-1 input.sk-hidden--visually {\n",
       "  border: 0;\n",
       "  clip: rect(1px 1px 1px 1px);\n",
       "  clip: rect(1px, 1px, 1px, 1px);\n",
       "  height: 1px;\n",
       "  margin: -1px;\n",
       "  overflow: hidden;\n",
       "  padding: 0;\n",
       "  position: absolute;\n",
       "  width: 1px;\n",
       "}\n",
       "\n",
       "#sk-container-id-1 div.sk-dashed-wrapped {\n",
       "  border: 1px dashed var(--sklearn-color-line);\n",
       "  margin: 0 0.4em 0.5em 0.4em;\n",
       "  box-sizing: border-box;\n",
       "  padding-bottom: 0.4em;\n",
       "  background-color: var(--sklearn-color-background);\n",
       "}\n",
       "\n",
       "#sk-container-id-1 div.sk-container {\n",
       "  /* jupyter's `normalize.less` sets `[hidden] { display: none; }`\n",
       "     but bootstrap.min.css set `[hidden] { display: none !important; }`\n",
       "     so we also need the `!important` here to be able to override the\n",
       "     default hidden behavior on the sphinx rendered scikit-learn.org.\n",
       "     See: https://github.com/scikit-learn/scikit-learn/issues/21755 */\n",
       "  display: inline-block !important;\n",
       "  position: relative;\n",
       "}\n",
       "\n",
       "#sk-container-id-1 div.sk-text-repr-fallback {\n",
       "  display: none;\n",
       "}\n",
       "\n",
       "div.sk-parallel-item,\n",
       "div.sk-serial,\n",
       "div.sk-item {\n",
       "  /* draw centered vertical line to link estimators */\n",
       "  background-image: linear-gradient(var(--sklearn-color-text-on-default-background), var(--sklearn-color-text-on-default-background));\n",
       "  background-size: 2px 100%;\n",
       "  background-repeat: no-repeat;\n",
       "  background-position: center center;\n",
       "}\n",
       "\n",
       "/* Parallel-specific style estimator block */\n",
       "\n",
       "#sk-container-id-1 div.sk-parallel-item::after {\n",
       "  content: \"\";\n",
       "  width: 100%;\n",
       "  border-bottom: 2px solid var(--sklearn-color-text-on-default-background);\n",
       "  flex-grow: 1;\n",
       "}\n",
       "\n",
       "#sk-container-id-1 div.sk-parallel {\n",
       "  display: flex;\n",
       "  align-items: stretch;\n",
       "  justify-content: center;\n",
       "  background-color: var(--sklearn-color-background);\n",
       "  position: relative;\n",
       "}\n",
       "\n",
       "#sk-container-id-1 div.sk-parallel-item {\n",
       "  display: flex;\n",
       "  flex-direction: column;\n",
       "}\n",
       "\n",
       "#sk-container-id-1 div.sk-parallel-item:first-child::after {\n",
       "  align-self: flex-end;\n",
       "  width: 50%;\n",
       "}\n",
       "\n",
       "#sk-container-id-1 div.sk-parallel-item:last-child::after {\n",
       "  align-self: flex-start;\n",
       "  width: 50%;\n",
       "}\n",
       "\n",
       "#sk-container-id-1 div.sk-parallel-item:only-child::after {\n",
       "  width: 0;\n",
       "}\n",
       "\n",
       "/* Serial-specific style estimator block */\n",
       "\n",
       "#sk-container-id-1 div.sk-serial {\n",
       "  display: flex;\n",
       "  flex-direction: column;\n",
       "  align-items: center;\n",
       "  background-color: var(--sklearn-color-background);\n",
       "  padding-right: 1em;\n",
       "  padding-left: 1em;\n",
       "}\n",
       "\n",
       "\n",
       "/* Toggleable style: style used for estimator/Pipeline/ColumnTransformer box that is\n",
       "clickable and can be expanded/collapsed.\n",
       "- Pipeline and ColumnTransformer use this feature and define the default style\n",
       "- Estimators will overwrite some part of the style using the `sk-estimator` class\n",
       "*/\n",
       "\n",
       "/* Pipeline and ColumnTransformer style (default) */\n",
       "\n",
       "#sk-container-id-1 div.sk-toggleable {\n",
       "  /* Default theme specific background. It is overwritten whether we have a\n",
       "  specific estimator or a Pipeline/ColumnTransformer */\n",
       "  background-color: var(--sklearn-color-background);\n",
       "}\n",
       "\n",
       "/* Toggleable label */\n",
       "#sk-container-id-1 label.sk-toggleable__label {\n",
       "  cursor: pointer;\n",
       "  display: block;\n",
       "  width: 100%;\n",
       "  margin-bottom: 0;\n",
       "  padding: 0.5em;\n",
       "  box-sizing: border-box;\n",
       "  text-align: center;\n",
       "}\n",
       "\n",
       "#sk-container-id-1 label.sk-toggleable__label-arrow:before {\n",
       "  /* Arrow on the left of the label */\n",
       "  content: \"▸\";\n",
       "  float: left;\n",
       "  margin-right: 0.25em;\n",
       "  color: var(--sklearn-color-icon);\n",
       "}\n",
       "\n",
       "#sk-container-id-1 label.sk-toggleable__label-arrow:hover:before {\n",
       "  color: var(--sklearn-color-text);\n",
       "}\n",
       "\n",
       "/* Toggleable content - dropdown */\n",
       "\n",
       "#sk-container-id-1 div.sk-toggleable__content {\n",
       "  max-height: 0;\n",
       "  max-width: 0;\n",
       "  overflow: hidden;\n",
       "  text-align: left;\n",
       "  /* unfitted */\n",
       "  background-color: var(--sklearn-color-unfitted-level-0);\n",
       "}\n",
       "\n",
       "#sk-container-id-1 div.sk-toggleable__content.fitted {\n",
       "  /* fitted */\n",
       "  background-color: var(--sklearn-color-fitted-level-0);\n",
       "}\n",
       "\n",
       "#sk-container-id-1 div.sk-toggleable__content pre {\n",
       "  margin: 0.2em;\n",
       "  border-radius: 0.25em;\n",
       "  color: var(--sklearn-color-text);\n",
       "  /* unfitted */\n",
       "  background-color: var(--sklearn-color-unfitted-level-0);\n",
       "}\n",
       "\n",
       "#sk-container-id-1 div.sk-toggleable__content.fitted pre {\n",
       "  /* unfitted */\n",
       "  background-color: var(--sklearn-color-fitted-level-0);\n",
       "}\n",
       "\n",
       "#sk-container-id-1 input.sk-toggleable__control:checked~div.sk-toggleable__content {\n",
       "  /* Expand drop-down */\n",
       "  max-height: 200px;\n",
       "  max-width: 100%;\n",
       "  overflow: auto;\n",
       "}\n",
       "\n",
       "#sk-container-id-1 input.sk-toggleable__control:checked~label.sk-toggleable__label-arrow:before {\n",
       "  content: \"▾\";\n",
       "}\n",
       "\n",
       "/* Pipeline/ColumnTransformer-specific style */\n",
       "\n",
       "#sk-container-id-1 div.sk-label input.sk-toggleable__control:checked~label.sk-toggleable__label {\n",
       "  color: var(--sklearn-color-text);\n",
       "  background-color: var(--sklearn-color-unfitted-level-2);\n",
       "}\n",
       "\n",
       "#sk-container-id-1 div.sk-label.fitted input.sk-toggleable__control:checked~label.sk-toggleable__label {\n",
       "  background-color: var(--sklearn-color-fitted-level-2);\n",
       "}\n",
       "\n",
       "/* Estimator-specific style */\n",
       "\n",
       "/* Colorize estimator box */\n",
       "#sk-container-id-1 div.sk-estimator input.sk-toggleable__control:checked~label.sk-toggleable__label {\n",
       "  /* unfitted */\n",
       "  background-color: var(--sklearn-color-unfitted-level-2);\n",
       "}\n",
       "\n",
       "#sk-container-id-1 div.sk-estimator.fitted input.sk-toggleable__control:checked~label.sk-toggleable__label {\n",
       "  /* fitted */\n",
       "  background-color: var(--sklearn-color-fitted-level-2);\n",
       "}\n",
       "\n",
       "#sk-container-id-1 div.sk-label label.sk-toggleable__label,\n",
       "#sk-container-id-1 div.sk-label label {\n",
       "  /* The background is the default theme color */\n",
       "  color: var(--sklearn-color-text-on-default-background);\n",
       "}\n",
       "\n",
       "/* On hover, darken the color of the background */\n",
       "#sk-container-id-1 div.sk-label:hover label.sk-toggleable__label {\n",
       "  color: var(--sklearn-color-text);\n",
       "  background-color: var(--sklearn-color-unfitted-level-2);\n",
       "}\n",
       "\n",
       "/* Label box, darken color on hover, fitted */\n",
       "#sk-container-id-1 div.sk-label.fitted:hover label.sk-toggleable__label.fitted {\n",
       "  color: var(--sklearn-color-text);\n",
       "  background-color: var(--sklearn-color-fitted-level-2);\n",
       "}\n",
       "\n",
       "/* Estimator label */\n",
       "\n",
       "#sk-container-id-1 div.sk-label label {\n",
       "  font-family: monospace;\n",
       "  font-weight: bold;\n",
       "  display: inline-block;\n",
       "  line-height: 1.2em;\n",
       "}\n",
       "\n",
       "#sk-container-id-1 div.sk-label-container {\n",
       "  text-align: center;\n",
       "}\n",
       "\n",
       "/* Estimator-specific */\n",
       "#sk-container-id-1 div.sk-estimator {\n",
       "  font-family: monospace;\n",
       "  border: 1px dotted var(--sklearn-color-border-box);\n",
       "  border-radius: 0.25em;\n",
       "  box-sizing: border-box;\n",
       "  margin-bottom: 0.5em;\n",
       "  /* unfitted */\n",
       "  background-color: var(--sklearn-color-unfitted-level-0);\n",
       "}\n",
       "\n",
       "#sk-container-id-1 div.sk-estimator.fitted {\n",
       "  /* fitted */\n",
       "  background-color: var(--sklearn-color-fitted-level-0);\n",
       "}\n",
       "\n",
       "/* on hover */\n",
       "#sk-container-id-1 div.sk-estimator:hover {\n",
       "  /* unfitted */\n",
       "  background-color: var(--sklearn-color-unfitted-level-2);\n",
       "}\n",
       "\n",
       "#sk-container-id-1 div.sk-estimator.fitted:hover {\n",
       "  /* fitted */\n",
       "  background-color: var(--sklearn-color-fitted-level-2);\n",
       "}\n",
       "\n",
       "/* Specification for estimator info (e.g. \"i\" and \"?\") */\n",
       "\n",
       "/* Common style for \"i\" and \"?\" */\n",
       "\n",
       ".sk-estimator-doc-link,\n",
       "a:link.sk-estimator-doc-link,\n",
       "a:visited.sk-estimator-doc-link {\n",
       "  float: right;\n",
       "  font-size: smaller;\n",
       "  line-height: 1em;\n",
       "  font-family: monospace;\n",
       "  background-color: var(--sklearn-color-background);\n",
       "  border-radius: 1em;\n",
       "  height: 1em;\n",
       "  width: 1em;\n",
       "  text-decoration: none !important;\n",
       "  margin-left: 1ex;\n",
       "  /* unfitted */\n",
       "  border: var(--sklearn-color-unfitted-level-1) 1pt solid;\n",
       "  color: var(--sklearn-color-unfitted-level-1);\n",
       "}\n",
       "\n",
       ".sk-estimator-doc-link.fitted,\n",
       "a:link.sk-estimator-doc-link.fitted,\n",
       "a:visited.sk-estimator-doc-link.fitted {\n",
       "  /* fitted */\n",
       "  border: var(--sklearn-color-fitted-level-1) 1pt solid;\n",
       "  color: var(--sklearn-color-fitted-level-1);\n",
       "}\n",
       "\n",
       "/* On hover */\n",
       "div.sk-estimator:hover .sk-estimator-doc-link:hover,\n",
       ".sk-estimator-doc-link:hover,\n",
       "div.sk-label-container:hover .sk-estimator-doc-link:hover,\n",
       ".sk-estimator-doc-link:hover {\n",
       "  /* unfitted */\n",
       "  background-color: var(--sklearn-color-unfitted-level-3);\n",
       "  color: var(--sklearn-color-background);\n",
       "  text-decoration: none;\n",
       "}\n",
       "\n",
       "div.sk-estimator.fitted:hover .sk-estimator-doc-link.fitted:hover,\n",
       ".sk-estimator-doc-link.fitted:hover,\n",
       "div.sk-label-container:hover .sk-estimator-doc-link.fitted:hover,\n",
       ".sk-estimator-doc-link.fitted:hover {\n",
       "  /* fitted */\n",
       "  background-color: var(--sklearn-color-fitted-level-3);\n",
       "  color: var(--sklearn-color-background);\n",
       "  text-decoration: none;\n",
       "}\n",
       "\n",
       "/* Span, style for the box shown on hovering the info icon */\n",
       ".sk-estimator-doc-link span {\n",
       "  display: none;\n",
       "  z-index: 9999;\n",
       "  position: relative;\n",
       "  font-weight: normal;\n",
       "  right: .2ex;\n",
       "  padding: .5ex;\n",
       "  margin: .5ex;\n",
       "  width: min-content;\n",
       "  min-width: 20ex;\n",
       "  max-width: 50ex;\n",
       "  color: var(--sklearn-color-text);\n",
       "  box-shadow: 2pt 2pt 4pt #999;\n",
       "  /* unfitted */\n",
       "  background: var(--sklearn-color-unfitted-level-0);\n",
       "  border: .5pt solid var(--sklearn-color-unfitted-level-3);\n",
       "}\n",
       "\n",
       ".sk-estimator-doc-link.fitted span {\n",
       "  /* fitted */\n",
       "  background: var(--sklearn-color-fitted-level-0);\n",
       "  border: var(--sklearn-color-fitted-level-3);\n",
       "}\n",
       "\n",
       ".sk-estimator-doc-link:hover span {\n",
       "  display: block;\n",
       "}\n",
       "\n",
       "/* \"?\"-specific style due to the `<a>` HTML tag */\n",
       "\n",
       "#sk-container-id-1 a.estimator_doc_link {\n",
       "  float: right;\n",
       "  font-size: 1rem;\n",
       "  line-height: 1em;\n",
       "  font-family: monospace;\n",
       "  background-color: var(--sklearn-color-background);\n",
       "  border-radius: 1rem;\n",
       "  height: 1rem;\n",
       "  width: 1rem;\n",
       "  text-decoration: none;\n",
       "  /* unfitted */\n",
       "  color: var(--sklearn-color-unfitted-level-1);\n",
       "  border: var(--sklearn-color-unfitted-level-1) 1pt solid;\n",
       "}\n",
       "\n",
       "#sk-container-id-1 a.estimator_doc_link.fitted {\n",
       "  /* fitted */\n",
       "  border: var(--sklearn-color-fitted-level-1) 1pt solid;\n",
       "  color: var(--sklearn-color-fitted-level-1);\n",
       "}\n",
       "\n",
       "/* On hover */\n",
       "#sk-container-id-1 a.estimator_doc_link:hover {\n",
       "  /* unfitted */\n",
       "  background-color: var(--sklearn-color-unfitted-level-3);\n",
       "  color: var(--sklearn-color-background);\n",
       "  text-decoration: none;\n",
       "}\n",
       "\n",
       "#sk-container-id-1 a.estimator_doc_link.fitted:hover {\n",
       "  /* fitted */\n",
       "  background-color: var(--sklearn-color-fitted-level-3);\n",
       "}\n",
       "</style><div id=\"sk-container-id-1\" class=\"sk-top-container\"><div class=\"sk-text-repr-fallback\"><pre>LGBMClassifier(early_stopping_rounds=10, learning_rate=0.15, max_depth=5,\n",
       "               random_state=42)</pre><b>In a Jupyter environment, please rerun this cell to show the HTML representation or trust the notebook. <br />On GitHub, the HTML representation is unable to render, please try loading this page with nbviewer.org.</b></div><div class=\"sk-container\" hidden><div class=\"sk-item\"><div class=\"sk-estimator fitted sk-toggleable\"><input class=\"sk-toggleable__control sk-hidden--visually\" id=\"sk-estimator-id-1\" type=\"checkbox\" checked><label for=\"sk-estimator-id-1\" class=\"sk-toggleable__label fitted sk-toggleable__label-arrow fitted\">&nbsp;LGBMClassifier<span class=\"sk-estimator-doc-link fitted\">i<span>Fitted</span></span></label><div class=\"sk-toggleable__content fitted\"><pre>LGBMClassifier(early_stopping_rounds=10, learning_rate=0.15, max_depth=5,\n",
       "               random_state=42)</pre></div> </div></div></div></div>"
      ],
      "text/plain": [
       "LGBMClassifier(early_stopping_rounds=10, learning_rate=0.15, max_depth=5,\n",
       "               random_state=42)"
      ]
     },
     "execution_count": 43,
     "metadata": {},
     "output_type": "execute_result"
    }
   ],
   "source": [
    "# ✅ 학습 및 Validation 성능 모니터링\n",
    "eval_set = [(X_train, y_train), (X_val, y_val)]\n",
    "\n",
    "# ✅ LightGBM 학습 (early_stopping_rounds 지원됨)\n",
    "model.fit(\n",
    "    X_train, y_train,\n",
    "    eval_set=eval_set,\n",
    "    eval_metric=\"auc\",  # 평가 지표 설정\n",
    "    # verbose_eval=True,  # 학습 로그 출력\n",
    "      # 10번 동안 개선 없으면 학습 종료\n",
    ")\n",
    "\n",
    "\n"
   ]
  },
  {
   "cell_type": "code",
   "execution_count": 44,
   "metadata": {},
   "outputs": [],
   "source": [
    "# 채무 불이행 '확률'을 예측합니다.\n",
    "preds = model.predict_proba(test_df)[:,1]"
   ]
  },
  {
   "cell_type": "code",
   "execution_count": 45,
   "metadata": {},
   "outputs": [],
   "source": [
    "submit = pd.read_csv('open/sample_submission.csv')\n",
    "\n",
    "# 결과 저장\n",
    "submit['채무 불이행 확률'] = preds\n",
    "submit.to_csv('submission_base4.csv', encoding='UTF-8-sig', index=False)"
   ]
  }
 ],
 "metadata": {
  "kernelspec": {
   "display_name": ".venv",
   "language": "python",
   "name": "python3"
  },
  "language_info": {
   "codemirror_mode": {
    "name": "ipython",
    "version": 3
   },
   "file_extension": ".py",
   "mimetype": "text/x-python",
   "name": "python",
   "nbconvert_exporter": "python",
   "pygments_lexer": "ipython3",
   "version": "3.10.8"
  }
 },
 "nbformat": 4,
 "nbformat_minor": 2
}
